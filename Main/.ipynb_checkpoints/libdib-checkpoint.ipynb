{
 "cells": [
  {
   "cell_type": "code",
   "execution_count": 1,
   "id": "063e6bd7",
   "metadata": {},
   "outputs": [
    {
     "name": "stdout",
     "output_type": "stream",
     "text": [
      "Requirement already satisfied: dlib in c:\\users\\mama\\anaconda3\\lib\\site-packages (19.24.2)\n"
     ]
    }
   ],
   "source": [
    "!pip install dlib"
   ]
  },
  {
   "cell_type": "code",
   "execution_count": 3,
   "id": "eabfab28",
   "metadata": {},
   "outputs": [
    {
     "name": "stderr",
     "output_type": "stream",
     "text": [
      "'get' is not recognized as an internal or external command,\n",
      "operable program or batch file.\n"
     ]
    }
   ],
   "source": [
    "!get https://github.com/davisking/dlib-models/raw/master/shape_predictor_68_face_landmarks.dat.bz2"
   ]
  },
  {
   "cell_type": "code",
   "execution_count": 2,
   "id": "f2098a21",
   "metadata": {},
   "outputs": [],
   "source": [
    "import cv2\n",
    "import dlib\n",
    "detector = dlib.get_frontal_face_detector()\n",
    "predictor = dlib.shape_predictor(\"shape_predictor_68_face_landmarks.dat\")"
   ]
  },
  {
   "cell_type": "code",
   "execution_count": 3,
   "id": "94c13e5a",
   "metadata": {},
   "outputs": [],
   "source": [
    "cap = cv2.VideoCapture(0)\n",
    "while cap.isOpened():\n",
    "            ret, frame = cap.read()\n",
    "            if ret != True:\n",
    "                break\n",
    "            if ret == True:\n",
    "                image = cv2.cvtColor(frame,cv2.COLOR_BGR2GRAY)\n",
    "                rects = detector(image)\n",
    "                for rect in rects:\n",
    "                  x1=rect.left()\n",
    "                  y1=rect.top()\n",
    "                  x2=rect.right()\n",
    "                  y2=rect.bottom()\n",
    "                  cv2.rectangle(image,(x1,y1),(x2,y2),(0,255,0),3)\n",
    "                  shape=predictor(image,rect)\n",
    "                  for n in range (0,68):\n",
    "                    x=shape.part(n).x\n",
    "                    y=shape.part(n).y\n",
    "                    cv2.circle(image,(x,y),4,(255,0,0),-1)\n",
    "                cv2.imshow(\"mywindow\",image)\n",
    "                    \n",
    "            if cv2.waitKey(1) == 27:\n",
    "                break\n",
    "cap.release()\n",
    "cv2.destroyAllWindows()"
   ]
  },
  {
   "cell_type": "code",
   "execution_count": null,
   "id": "bd9f1e94",
   "metadata": {},
   "outputs": [],
   "source": []
  },
  {
   "cell_type": "code",
   "execution_count": null,
   "id": "fdd52df1",
   "metadata": {},
   "outputs": [],
   "source": []
  }
 ],
 "metadata": {
  "kernelspec": {
   "display_name": "Python 3 (ipykernel)",
   "language": "python",
   "name": "python3"
  },
  "language_info": {
   "codemirror_mode": {
    "name": "ipython",
    "version": 3
   },
   "file_extension": ".py",
   "mimetype": "text/x-python",
   "name": "python",
   "nbconvert_exporter": "python",
   "pygments_lexer": "ipython3",
   "version": "3.10.9"
  }
 },
 "nbformat": 4,
 "nbformat_minor": 5
}
